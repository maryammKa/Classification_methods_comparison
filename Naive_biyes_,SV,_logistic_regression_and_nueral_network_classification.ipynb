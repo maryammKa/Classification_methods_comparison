{
  "nbformat": 4,
  "nbformat_minor": 0,
  "metadata": {
    "colab": {
      "provenance": []
    },
    "kernelspec": {
      "name": "python3",
      "display_name": "Python 3"
    },
    "language_info": {
      "name": "python"
    }
  },
  "cells": [
    {
      "cell_type": "markdown",
      "source": [
        "# Classification methods\n",
        "\n"
      ],
      "metadata": {
        "id": "hmRI7HU0yKTt"
      }
    },
    {
      "cell_type": "code",
      "source": [
        "import numpy as np\n",
        "from sklearn.datasets import load_breast_cancer\n",
        "from sklearn.model_selection import train_test_split\n",
        "from sklearn.svm import SVC\n",
        "from sklearn.metrics import accuracy_score , precision_score, recall_score, f1_score\n",
        "from sklearn.linear_model import LogisticRegression\n",
        "from sklearn.naive_bayes import GaussianNB\n",
        "from sklearn import metrics\n",
        "import pandas as pd\n",
        "from sklearn.metrics import confusion_matrix, ConfusionMatrixDisplay\n",
        "import matplotlib.pyplot as plt\n",
        "from sklearn.preprocessing import StandardScaler\n",
        "from sklearn.metrics import classification_report\n",
        "\n",
        "\n"
      ],
      "metadata": {
        "id": "zAtPjUzN-f2w"
      },
      "execution_count": null,
      "outputs": []
    },
    {
      "cell_type": "code",
      "source": [
        "breastData = load_breast_cancer()\n",
        "data = breastData.data\n",
        "target = breastData.target\n",
        "print(breastData['feature_names'])\n",
        "\n"
      ],
      "metadata": {
        "id": "AHWJgO-pIpdy",
        "colab": {
          "base_uri": "https://localhost:8080/"
        },
        "outputId": "6cb57885-c4f2-4de4-eb3e-db99d13be49f"
      },
      "execution_count": null,
      "outputs": [
        {
          "output_type": "stream",
          "name": "stdout",
          "text": [
            "['mean radius' 'mean texture' 'mean perimeter' 'mean area'\n",
            " 'mean smoothness' 'mean compactness' 'mean concavity'\n",
            " 'mean concave points' 'mean symmetry' 'mean fractal dimension'\n",
            " 'radius error' 'texture error' 'perimeter error' 'area error'\n",
            " 'smoothness error' 'compactness error' 'concavity error'\n",
            " 'concave points error' 'symmetry error' 'fractal dimension error'\n",
            " 'worst radius' 'worst texture' 'worst perimeter' 'worst area'\n",
            " 'worst smoothness' 'worst compactness' 'worst concavity'\n",
            " 'worst concave points' 'worst symmetry' 'worst fractal dimension']\n"
          ]
        }
      ]
    },
    {
      "cell_type": "code",
      "source": [
        "df = pd.DataFrame(data=breastData.data, columns=breastData.feature_names)\n",
        "df['target'] = breastData.target\n",
        "print(df.head())\n"
      ],
      "metadata": {
        "colab": {
          "base_uri": "https://localhost:8080/"
        },
        "id": "h6LOXqVibE9r",
        "outputId": "c276f6fc-527e-4128-e99f-c350eb3986d2"
      },
      "execution_count": null,
      "outputs": [
        {
          "output_type": "stream",
          "name": "stdout",
          "text": [
            "   mean radius  mean texture  mean perimeter  mean area  mean smoothness  \\\n",
            "0        17.99         10.38          122.80     1001.0          0.11840   \n",
            "1        20.57         17.77          132.90     1326.0          0.08474   \n",
            "2        19.69         21.25          130.00     1203.0          0.10960   \n",
            "3        11.42         20.38           77.58      386.1          0.14250   \n",
            "4        20.29         14.34          135.10     1297.0          0.10030   \n",
            "\n",
            "   mean compactness  mean concavity  mean concave points  mean symmetry  \\\n",
            "0           0.27760          0.3001              0.14710         0.2419   \n",
            "1           0.07864          0.0869              0.07017         0.1812   \n",
            "2           0.15990          0.1974              0.12790         0.2069   \n",
            "3           0.28390          0.2414              0.10520         0.2597   \n",
            "4           0.13280          0.1980              0.10430         0.1809   \n",
            "\n",
            "   mean fractal dimension  ...  worst texture  worst perimeter  worst area  \\\n",
            "0                 0.07871  ...          17.33           184.60      2019.0   \n",
            "1                 0.05667  ...          23.41           158.80      1956.0   \n",
            "2                 0.05999  ...          25.53           152.50      1709.0   \n",
            "3                 0.09744  ...          26.50            98.87       567.7   \n",
            "4                 0.05883  ...          16.67           152.20      1575.0   \n",
            "\n",
            "   worst smoothness  worst compactness  worst concavity  worst concave points  \\\n",
            "0            0.1622             0.6656           0.7119                0.2654   \n",
            "1            0.1238             0.1866           0.2416                0.1860   \n",
            "2            0.1444             0.4245           0.4504                0.2430   \n",
            "3            0.2098             0.8663           0.6869                0.2575   \n",
            "4            0.1374             0.2050           0.4000                0.1625   \n",
            "\n",
            "   worst symmetry  worst fractal dimension  target  \n",
            "0          0.4601                  0.11890       0  \n",
            "1          0.2750                  0.08902       0  \n",
            "2          0.3613                  0.08758       0  \n",
            "3          0.6638                  0.17300       0  \n",
            "4          0.2364                  0.07678       0  \n",
            "\n",
            "[5 rows x 31 columns]\n"
          ]
        }
      ]
    },
    {
      "cell_type": "code",
      "source": [
        "X_train , X_test , y_train , y_test = train_test_split(data,target,test_size=0.2,random_state=42)"
      ],
      "metadata": {
        "id": "Zr_LOI60A_NM"
      },
      "execution_count": null,
      "outputs": []
    },
    {
      "cell_type": "markdown",
      "source": [
        "\n",
        "\n",
        "```\n",
        "# This is formatted as code\n",
        "```\n",
        "\n",
        "# Support Vector Machine classification\n"
      ],
      "metadata": {
        "id": "roHYASly-eqo"
      }
    },
    {
      "cell_type": "code",
      "source": [
        "model = SVC()\n",
        "model.fit(X_train,y_train)"
      ],
      "metadata": {
        "colab": {
          "base_uri": "https://localhost:8080/",
          "height": 75
        },
        "id": "toOuS-tzJM7X",
        "outputId": "a1eea937-eb75-4c30-c293-f74828484cac"
      },
      "execution_count": null,
      "outputs": [
        {
          "output_type": "execute_result",
          "data": {
            "text/plain": [
              "SVC()"
            ],
            "text/html": [
              "<style>#sk-container-id-1 {color: black;background-color: white;}#sk-container-id-1 pre{padding: 0;}#sk-container-id-1 div.sk-toggleable {background-color: white;}#sk-container-id-1 label.sk-toggleable__label {cursor: pointer;display: block;width: 100%;margin-bottom: 0;padding: 0.3em;box-sizing: border-box;text-align: center;}#sk-container-id-1 label.sk-toggleable__label-arrow:before {content: \"▸\";float: left;margin-right: 0.25em;color: #696969;}#sk-container-id-1 label.sk-toggleable__label-arrow:hover:before {color: black;}#sk-container-id-1 div.sk-estimator:hover label.sk-toggleable__label-arrow:before {color: black;}#sk-container-id-1 div.sk-toggleable__content {max-height: 0;max-width: 0;overflow: hidden;text-align: left;background-color: #f0f8ff;}#sk-container-id-1 div.sk-toggleable__content pre {margin: 0.2em;color: black;border-radius: 0.25em;background-color: #f0f8ff;}#sk-container-id-1 input.sk-toggleable__control:checked~div.sk-toggleable__content {max-height: 200px;max-width: 100%;overflow: auto;}#sk-container-id-1 input.sk-toggleable__control:checked~label.sk-toggleable__label-arrow:before {content: \"▾\";}#sk-container-id-1 div.sk-estimator input.sk-toggleable__control:checked~label.sk-toggleable__label {background-color: #d4ebff;}#sk-container-id-1 div.sk-label input.sk-toggleable__control:checked~label.sk-toggleable__label {background-color: #d4ebff;}#sk-container-id-1 input.sk-hidden--visually {border: 0;clip: rect(1px 1px 1px 1px);clip: rect(1px, 1px, 1px, 1px);height: 1px;margin: -1px;overflow: hidden;padding: 0;position: absolute;width: 1px;}#sk-container-id-1 div.sk-estimator {font-family: monospace;background-color: #f0f8ff;border: 1px dotted black;border-radius: 0.25em;box-sizing: border-box;margin-bottom: 0.5em;}#sk-container-id-1 div.sk-estimator:hover {background-color: #d4ebff;}#sk-container-id-1 div.sk-parallel-item::after {content: \"\";width: 100%;border-bottom: 1px solid gray;flex-grow: 1;}#sk-container-id-1 div.sk-label:hover label.sk-toggleable__label {background-color: #d4ebff;}#sk-container-id-1 div.sk-serial::before {content: \"\";position: absolute;border-left: 1px solid gray;box-sizing: border-box;top: 0;bottom: 0;left: 50%;z-index: 0;}#sk-container-id-1 div.sk-serial {display: flex;flex-direction: column;align-items: center;background-color: white;padding-right: 0.2em;padding-left: 0.2em;position: relative;}#sk-container-id-1 div.sk-item {position: relative;z-index: 1;}#sk-container-id-1 div.sk-parallel {display: flex;align-items: stretch;justify-content: center;background-color: white;position: relative;}#sk-container-id-1 div.sk-item::before, #sk-container-id-1 div.sk-parallel-item::before {content: \"\";position: absolute;border-left: 1px solid gray;box-sizing: border-box;top: 0;bottom: 0;left: 50%;z-index: -1;}#sk-container-id-1 div.sk-parallel-item {display: flex;flex-direction: column;z-index: 1;position: relative;background-color: white;}#sk-container-id-1 div.sk-parallel-item:first-child::after {align-self: flex-end;width: 50%;}#sk-container-id-1 div.sk-parallel-item:last-child::after {align-self: flex-start;width: 50%;}#sk-container-id-1 div.sk-parallel-item:only-child::after {width: 0;}#sk-container-id-1 div.sk-dashed-wrapped {border: 1px dashed gray;margin: 0 0.4em 0.5em 0.4em;box-sizing: border-box;padding-bottom: 0.4em;background-color: white;}#sk-container-id-1 div.sk-label label {font-family: monospace;font-weight: bold;display: inline-block;line-height: 1.2em;}#sk-container-id-1 div.sk-label-container {text-align: center;}#sk-container-id-1 div.sk-container {/* jupyter's `normalize.less` sets `[hidden] { display: none; }` but bootstrap.min.css set `[hidden] { display: none !important; }` so we also need the `!important` here to be able to override the default hidden behavior on the sphinx rendered scikit-learn.org. See: https://github.com/scikit-learn/scikit-learn/issues/21755 */display: inline-block !important;position: relative;}#sk-container-id-1 div.sk-text-repr-fallback {display: none;}</style><div id=\"sk-container-id-1\" class=\"sk-top-container\"><div class=\"sk-text-repr-fallback\"><pre>SVC()</pre><b>In a Jupyter environment, please rerun this cell to show the HTML representation or trust the notebook. <br />On GitHub, the HTML representation is unable to render, please try loading this page with nbviewer.org.</b></div><div class=\"sk-container\" hidden><div class=\"sk-item\"><div class=\"sk-estimator sk-toggleable\"><input class=\"sk-toggleable__control sk-hidden--visually\" id=\"sk-estimator-id-1\" type=\"checkbox\" checked><label for=\"sk-estimator-id-1\" class=\"sk-toggleable__label sk-toggleable__label-arrow\">SVC</label><div class=\"sk-toggleable__content\"><pre>SVC()</pre></div></div></div></div></div>"
            ]
          },
          "metadata": {},
          "execution_count": 9
        }
      ]
    },
    {
      "cell_type": "code",
      "source": [
        "predictions =  model.predict(X_test)\n",
        "svc_accuracy = accuracy_score(y_test,predictions)\n",
        "svc_precision = precision_score(y_test, predictions)\n",
        "svc_recall = recall_score(y_test, predictions)\n",
        "svc_f1 = f1_score(y_test, predictions)\n",
        "\n",
        "\n",
        "print(\"Naive_accuracy: \" ,svc_accuracy)\n",
        "print(\"naive_accuracy: \", svc_accuracy)\n",
        "print(\"naive_Precision:\", svc_precision)\n",
        "print(\"naive_Recall:\", svc_recall)\n",
        "print(\"naive_F1 Score:\", svc_f1)"
      ],
      "metadata": {
        "colab": {
          "base_uri": "https://localhost:8080/"
        },
        "id": "GxqYd-TpJmQx",
        "outputId": "55e6e007-b964-4dde-852d-9f25910c59d8"
      },
      "execution_count": null,
      "outputs": [
        {
          "output_type": "stream",
          "name": "stdout",
          "text": [
            "Naive_accuracy:  0.9473684210526315\n",
            "naive_accuracy:  0.9473684210526315\n",
            "naive_Precision: 0.922077922077922\n",
            "naive_Recall: 1.0\n",
            "naive_F1 Score: 0.9594594594594594\n"
          ]
        }
      ]
    },
    {
      "cell_type": "markdown",
      "source": [
        "# Logistic regression classification"
      ],
      "metadata": {
        "id": "awwbyuGoLpGO"
      }
    },
    {
      "cell_type": "code",
      "source": [
        "logReg = LogisticRegression(penalty='l2',solver=\"sag\",C=1.0,random_state=33)\n",
        "logReg.fit(X_train,y_train)\n",
        "y_pred = logReg.predict(X_test)\n",
        "logistic_accuracy = accuracy_score(y_test,y_pred)\n",
        "logistic_precision = precision_score(y_test, y_pred)\n",
        "logistic_recall = recall_score(y_test, y_pred)\n",
        "logistic_f1 = f1_score(y_test, y_pred)\n",
        "\n",
        "print(\"logistic_accuracy: \", logistic_accuracy)\n",
        "print(\"logistic_Precision:\", logistic_precision)\n",
        "print(\"logistic_Recall:\", logistic_recall)\n",
        "print(\"logistic_F1 Score:\", logistic_f1)"
      ],
      "metadata": {
        "colab": {
          "base_uri": "https://localhost:8080/"
        },
        "id": "yZZ0GghJLzh_",
        "outputId": "c447fd8f-6afa-43b1-c4d9-0557e511d72d"
      },
      "execution_count": null,
      "outputs": [
        {
          "output_type": "stream",
          "name": "stdout",
          "text": [
            "logistic_accuracy:  0.9473684210526315\n",
            "logistic_Precision: 0.9333333333333333\n",
            "logistic_Recall: 0.9859154929577465\n",
            "logistic_F1 Score: 0.9589041095890412\n"
          ]
        },
        {
          "output_type": "stream",
          "name": "stderr",
          "text": [
            "/usr/local/lib/python3.10/dist-packages/sklearn/linear_model/_sag.py:350: ConvergenceWarning: The max_iter was reached which means the coef_ did not converge\n",
            "  warnings.warn(\n"
          ]
        }
      ]
    },
    {
      "cell_type": "markdown",
      "source": [
        "# Naive Bayes"
      ],
      "metadata": {
        "id": "79feoPfQ6a5J"
      }
    },
    {
      "cell_type": "code",
      "source": [
        "naive =  GaussianNB()\n",
        "naive_pred = naive.fit(X_train, y_train).predict(X_test)\n",
        "logistic_accuracy = accuracy_score(y_test,naive_pred)\n",
        "logistic_precision = precision_score(y_test, naive_pred)\n",
        "logistic_recall = recall_score(y_test, naive_pred)\n",
        "logistic_f1 = f1_score(y_test, naive_pred)\n",
        "\n",
        "print(\"logistic_accuracy: \", logistic_accuracy)\n",
        "print(\"logistic_Precision:\", logistic_precision)\n",
        "print(\"logistic_Recall:\", logistic_recall)\n",
        "print(\"logistic_F1 Score:\", logistic_f1)\n"
      ],
      "metadata": {
        "id": "CzH2jyjy6c65",
        "colab": {
          "base_uri": "https://localhost:8080/"
        },
        "outputId": "6cc303c3-e4aa-47f4-9033-ef3c06b0a1bd"
      },
      "execution_count": null,
      "outputs": [
        {
          "output_type": "stream",
          "name": "stdout",
          "text": [
            "logistic_accuracy:  0.9736842105263158\n",
            "logistic_Precision: 0.9594594594594594\n",
            "logistic_Recall: 1.0\n",
            "logistic_F1 Score: 0.9793103448275862\n"
          ]
        }
      ]
    },
    {
      "cell_type": "markdown",
      "source": [
        "#Nueral Network"
      ],
      "metadata": {
        "id": "b81iQT94uGH0"
      }
    },
    {
      "cell_type": "code",
      "source": [
        "import tensorflow as tf\n",
        "from tensorflow import keras"
      ],
      "metadata": {
        "id": "aBIVB9d5uKka"
      },
      "execution_count": null,
      "outputs": []
    },
    {
      "cell_type": "code",
      "source": [
        "print(data.shape, X_train.shape, X_test.shape)"
      ],
      "metadata": {
        "colab": {
          "base_uri": "https://localhost:8080/"
        },
        "id": "_hD-pCit1rot",
        "outputId": "fceac666-d37c-4db2-c22d-ffd3a2fd6131"
      },
      "execution_count": null,
      "outputs": [
        {
          "output_type": "stream",
          "name": "stdout",
          "text": [
            "(569, 30) (455, 30) (114, 30)\n"
          ]
        }
      ]
    },
    {
      "cell_type": "code",
      "source": [
        "#strandardizetion the data\n",
        "scaler  = StandardScaler()\n",
        "std_x_train = scaler.fit_transform(X_train)\n",
        "\n",
        "std_x_test = scaler.fit_transform(X_test)\n"
      ],
      "metadata": {
        "id": "5hRdjVTnB9CM"
      },
      "execution_count": null,
      "outputs": []
    },
    {
      "cell_type": "code",
      "source": [
        "#layers setting\n",
        "model = tf.keras.models.Sequential([\n",
        "    #convert the data in one single dimentional\n",
        "    tf.keras.layers.Flatten(input_shape=(30,)),\n",
        "    keras.layers.Dense(20, activation = 'relu'),\n",
        "    keras.layers.Dense(2, activation='sigmoid'),\n",
        "    ])"
      ],
      "metadata": {
        "id": "BPu83G8dyfzf"
      },
      "execution_count": null,
      "outputs": []
    },
    {
      "cell_type": "code",
      "source": [
        "#compiling\n",
        "model.compile(optimizer = 'adam',\n",
        "            loss =\"sparse_categorical_crossentropy\",\n",
        "            metrics = [\"accuracy\"])"
      ],
      "metadata": {
        "id": "2f_H9tCIEnnO"
      },
      "execution_count": null,
      "outputs": []
    },
    {
      "cell_type": "code",
      "source": [
        "#training the nueral network\n",
        "history = model.fit(X_train,y_train,validation_split = 0.1,epochs = 10)"
      ],
      "metadata": {
        "colab": {
          "base_uri": "https://localhost:8080/"
        },
        "id": "yhFEWcRoQlrD",
        "outputId": "2dfdf88d-a9e3-4eca-cf0a-ff304d14dd07"
      },
      "execution_count": null,
      "outputs": [
        {
          "output_type": "stream",
          "name": "stdout",
          "text": [
            "Epoch 1/10\n",
            "13/13 [==============================] - 2s 38ms/step - loss: 317.4231 - accuracy: 0.6210 - val_loss: 216.5980 - val_accuracy: 0.6957\n",
            "Epoch 2/10\n",
            "13/13 [==============================] - 0s 5ms/step - loss: 250.2840 - accuracy: 0.6210 - val_loss: 164.3468 - val_accuracy: 0.6957\n",
            "Epoch 3/10\n",
            "13/13 [==============================] - 0s 7ms/step - loss: 184.8371 - accuracy: 0.6210 - val_loss: 116.5202 - val_accuracy: 0.6957\n",
            "Epoch 4/10\n",
            "13/13 [==============================] - 0s 5ms/step - loss: 123.9711 - accuracy: 0.6210 - val_loss: 71.6805 - val_accuracy: 0.6957\n",
            "Epoch 5/10\n",
            "13/13 [==============================] - 0s 5ms/step - loss: 69.5957 - accuracy: 0.5892 - val_loss: 29.7275 - val_accuracy: 0.5435\n",
            "Epoch 6/10\n",
            "13/13 [==============================] - 0s 7ms/step - loss: 29.2531 - accuracy: 0.1980 - val_loss: 22.0056 - val_accuracy: 0.2391\n",
            "Epoch 7/10\n",
            "13/13 [==============================] - 0s 5ms/step - loss: 21.9691 - accuracy: 0.2910 - val_loss: 19.7931 - val_accuracy: 0.2391\n",
            "Epoch 8/10\n",
            "13/13 [==============================] - 0s 6ms/step - loss: 16.7338 - accuracy: 0.2225 - val_loss: 12.5933 - val_accuracy: 0.1739\n",
            "Epoch 9/10\n",
            "13/13 [==============================] - 0s 6ms/step - loss: 13.6509 - accuracy: 0.1271 - val_loss: 9.8616 - val_accuracy: 0.1739\n",
            "Epoch 10/10\n",
            "13/13 [==============================] - 0s 6ms/step - loss: 10.2575 - accuracy: 0.1736 - val_loss: 7.4524 - val_accuracy: 0.2609\n"
          ]
        }
      ]
    },
    {
      "cell_type": "code",
      "source": [
        "#visualization the accuracy and the loss\n",
        "plt.plot(history.history['accuracy'])\n",
        "plt.plot(history.history['val_accuracy'])\n",
        "plt.xlabel('epoch')\n",
        "plt.ylabel('loss')\n",
        "\n",
        "plt.legend(['training data', 'validation data'], loc='upper right')"
      ],
      "metadata": {
        "colab": {
          "base_uri": "https://localhost:8080/",
          "height": 466
        },
        "id": "lm8sVbbHeUrh",
        "outputId": "96b77137-9061-41a7-ef38-ec6c00d312c6"
      },
      "execution_count": null,
      "outputs": [
        {
          "output_type": "execute_result",
          "data": {
            "text/plain": [
              "<matplotlib.legend.Legend at 0x7d601fd23df0>"
            ]
          },
          "metadata": {},
          "execution_count": 20
        },
        {
          "output_type": "display_data",
          "data": {
            "text/plain": [
              "<Figure size 640x480 with 1 Axes>"
            ],
            "image/png": "[encoded data removed]"
          },
          "metadata": {}
        }
      ]
    },
    {
      "cell_type": "markdown",
      "source": [
        "Accuracy of the model on test data"
      ],
      "metadata": {
        "id": "1cqfUZKuvfdY"
      }
    },
    {
      "cell_type": "code",
      "source": [
        "loss, accuracy = model.evaluate(X_test,y_test)\n",
        "print(accuracy)\n",
        "\n",
        "# Convert predicted probabilities to class labels\n",
        "y_pred_classes = np.argmax(nn_pred, axis=1)\n",
        "\n",
        "# Convert true labels to class labels if necessary\n",
        "y_true_classes = np.argmax(y_test, axis=1)\n",
        "\n",
        "precision = precision_score(y_true_classes, y_pred_classes, average='weighted')\n",
        "print(\"Precision:\", precision)"
      ],
      "metadata": {
        "colab": {
          "base_uri": "https://localhost:8080/",
          "height": 373
        },
        "id": "XRcQgj-qvzK5",
        "outputId": "b209d5f1-08e9-424e-89fb-8330a98d19f1"
      },
      "execution_count": null,
      "outputs": [
        {
          "output_type": "stream",
          "name": "stdout",
          "text": [
            "4/4 [==============================] - 0s 6ms/step - loss: 150.9045 - accuracy: 0.3772\n",
            "0.37719297409057617\n"
          ]
        },
        {
          "output_type": "error",
          "ename": "TypeError",
          "evalue": "Singleton array 0 cannot be considered a valid collection.",
          "traceback": [
            "\u001b[0;31m---------------------------------------------------------------------------\u001b[0m",
            "\u001b[0;31mTypeError\u001b[0m                                 Traceback (most recent call last)",
            "\u001b[0;32m<ipython-input-33-b7d8d82f67cc>\u001b[0m in \u001b[0;36m<cell line: 10>\u001b[0;34m()\u001b[0m\n\u001b[1;32m      8\u001b[0m \u001b[0my_true_classes\u001b[0m \u001b[0;34m=\u001b[0m \u001b[0mnp\u001b[0m\u001b[0;34m.\u001b[0m\u001b[0margmax\u001b[0m\u001b[0;34m(\u001b[0m\u001b[0my_test\u001b[0m\u001b[0;34m)\u001b[0m\u001b[0;34m\u001b[0m\u001b[0;34m\u001b[0m\u001b[0m\n\u001b[1;32m      9\u001b[0m \u001b[0;34m\u001b[0m\u001b[0m\n\u001b[0;32m---> 10\u001b[0;31m \u001b[0mprecision\u001b[0m \u001b[0;34m=\u001b[0m \u001b[0mprecision_score\u001b[0m\u001b[0;34m(\u001b[0m\u001b[0my_true_classes\u001b[0m\u001b[0;34m,\u001b[0m \u001b[0my_pred_classes\u001b[0m\u001b[0;34m,\u001b[0m \u001b[0maverage\u001b[0m\u001b[0;34m=\u001b[0m\u001b[0;34m'weighted'\u001b[0m\u001b[0;34m)\u001b[0m\u001b[0;34m\u001b[0m\u001b[0;34m\u001b[0m\u001b[0m\n\u001b[0m\u001b[1;32m     11\u001b[0m \u001b[0mprint\u001b[0m\u001b[0;34m(\u001b[0m\u001b[0;34m\"Precision:\"\u001b[0m\u001b[0;34m,\u001b[0m \u001b[0mprecision\u001b[0m\u001b[0;34m)\u001b[0m\u001b[0;34m\u001b[0m\u001b[0;34m\u001b[0m\u001b[0m\n",
            "\u001b[0;32m/usr/local/lib/python3.10/dist-packages/sklearn/metrics/_classification.py\u001b[0m in \u001b[0;36mprecision_score\u001b[0;34m(y_true, y_pred, labels, pos_label, average, sample_weight, zero_division)\u001b[0m\n\u001b[1;32m   1952\u001b[0m     \u001b[0marray\u001b[0m\u001b[0;34m(\u001b[0m\u001b[0;34m[\u001b[0m\u001b[0;36m0.5\u001b[0m\u001b[0;34m,\u001b[0m \u001b[0;36m1.\u001b[0m \u001b[0;34m,\u001b[0m \u001b[0;36m1.\u001b[0m \u001b[0;34m]\u001b[0m\u001b[0;34m)\u001b[0m\u001b[0;34m\u001b[0m\u001b[0;34m\u001b[0m\u001b[0m\n\u001b[1;32m   1953\u001b[0m     \"\"\"\n\u001b[0;32m-> 1954\u001b[0;31m     p, _, _, _ = precision_recall_fscore_support(\n\u001b[0m\u001b[1;32m   1955\u001b[0m         \u001b[0my_true\u001b[0m\u001b[0;34m,\u001b[0m\u001b[0;34m\u001b[0m\u001b[0;34m\u001b[0m\u001b[0m\n\u001b[1;32m   1956\u001b[0m         \u001b[0my_pred\u001b[0m\u001b[0;34m,\u001b[0m\u001b[0;34m\u001b[0m\u001b[0;34m\u001b[0m\u001b[0m\n",
            "\u001b[0;32m/usr/local/lib/python3.10/dist-packages/sklearn/metrics/_classification.py\u001b[0m in \u001b[0;36mprecision_recall_fscore_support\u001b[0;34m(y_true, y_pred, beta, labels, pos_label, average, warn_for, sample_weight, zero_division)\u001b[0m\n\u001b[1;32m   1571\u001b[0m     \u001b[0;32mif\u001b[0m \u001b[0mbeta\u001b[0m \u001b[0;34m<\u001b[0m \u001b[0;36m0\u001b[0m\u001b[0;34m:\u001b[0m\u001b[0;34m\u001b[0m\u001b[0;34m\u001b[0m\u001b[0m\n\u001b[1;32m   1572\u001b[0m         \u001b[0;32mraise\u001b[0m \u001b[0mValueError\u001b[0m\u001b[0;34m(\u001b[0m\u001b[0;34m\"beta should be >=0 in the F-beta score\"\u001b[0m\u001b[0;34m)\u001b[0m\u001b[0;34m\u001b[0m\u001b[0;34m\u001b[0m\u001b[0m\n\u001b[0;32m-> 1573\u001b[0;31m     \u001b[0mlabels\u001b[0m \u001b[0;34m=\u001b[0m \u001b[0m_check_set_wise_labels\u001b[0m\u001b[0;34m(\u001b[0m\u001b[0my_true\u001b[0m\u001b[0;34m,\u001b[0m \u001b[0my_pred\u001b[0m\u001b[0;34m,\u001b[0m \u001b[0maverage\u001b[0m\u001b[0;34m,\u001b[0m \u001b[0mlabels\u001b[0m\u001b[0;34m,\u001b[0m \u001b[0mpos_label\u001b[0m\u001b[0;34m)\u001b[0m\u001b[0;34m\u001b[0m\u001b[0;34m\u001b[0m\u001b[0m\n\u001b[0m\u001b[1;32m   1574\u001b[0m \u001b[0;34m\u001b[0m\u001b[0m\n\u001b[1;32m   1575\u001b[0m     \u001b[0;31m# Calculate tp_sum, pred_sum, true_sum ###\u001b[0m\u001b[0;34m\u001b[0m\u001b[0;34m\u001b[0m\u001b[0m\n",
            "\u001b[0;32m/usr/local/lib/python3.10/dist-packages/sklearn/metrics/_classification.py\u001b[0m in \u001b[0;36m_check_set_wise_labels\u001b[0;34m(y_true, y_pred, average, labels, pos_label)\u001b[0m\n\u001b[1;32m   1372\u001b[0m         \u001b[0;32mraise\u001b[0m \u001b[0mValueError\u001b[0m\u001b[0;34m(\u001b[0m\u001b[0;34m\"average has to be one of \"\u001b[0m \u001b[0;34m+\u001b[0m \u001b[0mstr\u001b[0m\u001b[0;34m(\u001b[0m\u001b[0maverage_options\u001b[0m\u001b[0;34m)\u001b[0m\u001b[0;34m)\u001b[0m\u001b[0;34m\u001b[0m\u001b[0;34m\u001b[0m\u001b[0m\n\u001b[1;32m   1373\u001b[0m \u001b[0;34m\u001b[0m\u001b[0m\n\u001b[0;32m-> 1374\u001b[0;31m     \u001b[0my_type\u001b[0m\u001b[0;34m,\u001b[0m \u001b[0my_true\u001b[0m\u001b[0;34m,\u001b[0m \u001b[0my_pred\u001b[0m \u001b[0;34m=\u001b[0m \u001b[0m_check_targets\u001b[0m\u001b[0;34m(\u001b[0m\u001b[0my_true\u001b[0m\u001b[0;34m,\u001b[0m \u001b[0my_pred\u001b[0m\u001b[0;34m)\u001b[0m\u001b[0;34m\u001b[0m\u001b[0;34m\u001b[0m\u001b[0m\n\u001b[0m\u001b[1;32m   1375\u001b[0m     \u001b[0;31m# Convert to Python primitive type to avoid NumPy type / Python str\u001b[0m\u001b[0;34m\u001b[0m\u001b[0;34m\u001b[0m\u001b[0m\n\u001b[1;32m   1376\u001b[0m     \u001b[0;31m# comparison. See https://github.com/numpy/numpy/issues/6784\u001b[0m\u001b[0;34m\u001b[0m\u001b[0;34m\u001b[0m\u001b[0m\n",
            "\u001b[0;32m/usr/local/lib/python3.10/dist-packages/sklearn/metrics/_classification.py\u001b[0m in \u001b[0;36m_check_targets\u001b[0;34m(y_true, y_pred)\u001b[0m\n\u001b[1;32m     84\u001b[0m     \u001b[0my_pred\u001b[0m \u001b[0;34m:\u001b[0m \u001b[0marray\u001b[0m \u001b[0;32mor\u001b[0m \u001b[0mindicator\u001b[0m \u001b[0mmatrix\u001b[0m\u001b[0;34m\u001b[0m\u001b[0;34m\u001b[0m\u001b[0m\n\u001b[1;32m     85\u001b[0m     \"\"\"\n\u001b[0;32m---> 86\u001b[0;31m     \u001b[0mcheck_consistent_length\u001b[0m\u001b[0;34m(\u001b[0m\u001b[0my_true\u001b[0m\u001b[0;34m,\u001b[0m \u001b[0my_pred\u001b[0m\u001b[0;34m)\u001b[0m\u001b[0;34m\u001b[0m\u001b[0;34m\u001b[0m\u001b[0m\n\u001b[0m\u001b[1;32m     87\u001b[0m     \u001b[0mtype_true\u001b[0m \u001b[0;34m=\u001b[0m \u001b[0mtype_of_target\u001b[0m\u001b[0;34m(\u001b[0m\u001b[0my_true\u001b[0m\u001b[0;34m,\u001b[0m \u001b[0minput_name\u001b[0m\u001b[0;34m=\u001b[0m\u001b[0;34m\"y_true\"\u001b[0m\u001b[0;34m)\u001b[0m\u001b[0;34m\u001b[0m\u001b[0;34m\u001b[0m\u001b[0m\n\u001b[1;32m     88\u001b[0m     \u001b[0mtype_pred\u001b[0m \u001b[0;34m=\u001b[0m \u001b[0mtype_of_target\u001b[0m\u001b[0;34m(\u001b[0m\u001b[0my_pred\u001b[0m\u001b[0;34m,\u001b[0m \u001b[0minput_name\u001b[0m\u001b[0;34m=\u001b[0m\u001b[0;34m\"y_pred\"\u001b[0m\u001b[0;34m)\u001b[0m\u001b[0;34m\u001b[0m\u001b[0;34m\u001b[0m\u001b[0m\n",
            "\u001b[0;32m/usr/local/lib/python3.10/dist-packages/sklearn/utils/validation.py\u001b[0m in \u001b[0;36mcheck_consistent_length\u001b[0;34m(*arrays)\u001b[0m\n\u001b[1;32m    392\u001b[0m     \"\"\"\n\u001b[1;32m    393\u001b[0m \u001b[0;34m\u001b[0m\u001b[0m\n\u001b[0;32m--> 394\u001b[0;31m     \u001b[0mlengths\u001b[0m \u001b[0;34m=\u001b[0m \u001b[0;34m[\u001b[0m\u001b[0m_num_samples\u001b[0m\u001b[0;34m(\u001b[0m\u001b[0mX\u001b[0m\u001b[0;34m)\u001b[0m \u001b[0;32mfor\u001b[0m \u001b[0mX\u001b[0m \u001b[0;32min\u001b[0m \u001b[0marrays\u001b[0m \u001b[0;32mif\u001b[0m \u001b[0mX\u001b[0m \u001b[0;32mis\u001b[0m \u001b[0;32mnot\u001b[0m \u001b[0;32mNone\u001b[0m\u001b[0;34m]\u001b[0m\u001b[0;34m\u001b[0m\u001b[0;34m\u001b[0m\u001b[0m\n\u001b[0m\u001b[1;32m    395\u001b[0m     \u001b[0muniques\u001b[0m \u001b[0;34m=\u001b[0m \u001b[0mnp\u001b[0m\u001b[0;34m.\u001b[0m\u001b[0munique\u001b[0m\u001b[0;34m(\u001b[0m\u001b[0mlengths\u001b[0m\u001b[0;34m)\u001b[0m\u001b[0;34m\u001b[0m\u001b[0;34m\u001b[0m\u001b[0m\n\u001b[1;32m    396\u001b[0m     \u001b[0;32mif\u001b[0m \u001b[0mlen\u001b[0m\u001b[0;34m(\u001b[0m\u001b[0muniques\u001b[0m\u001b[0;34m)\u001b[0m \u001b[0;34m>\u001b[0m \u001b[0;36m1\u001b[0m\u001b[0;34m:\u001b[0m\u001b[0;34m\u001b[0m\u001b[0;34m\u001b[0m\u001b[0m\n",
            "\u001b[0;32m/usr/local/lib/python3.10/dist-packages/sklearn/utils/validation.py\u001b[0m in \u001b[0;36m<listcomp>\u001b[0;34m(.0)\u001b[0m\n\u001b[1;32m    392\u001b[0m     \"\"\"\n\u001b[1;32m    393\u001b[0m \u001b[0;34m\u001b[0m\u001b[0m\n\u001b[0;32m--> 394\u001b[0;31m     \u001b[0mlengths\u001b[0m \u001b[0;34m=\u001b[0m \u001b[0;34m[\u001b[0m\u001b[0m_num_samples\u001b[0m\u001b[0;34m(\u001b[0m\u001b[0mX\u001b[0m\u001b[0;34m)\u001b[0m \u001b[0;32mfor\u001b[0m \u001b[0mX\u001b[0m \u001b[0;32min\u001b[0m \u001b[0marrays\u001b[0m \u001b[0;32mif\u001b[0m \u001b[0mX\u001b[0m \u001b[0;32mis\u001b[0m \u001b[0;32mnot\u001b[0m \u001b[0;32mNone\u001b[0m\u001b[0;34m]\u001b[0m\u001b[0;34m\u001b[0m\u001b[0;34m\u001b[0m\u001b[0m\n\u001b[0m\u001b[1;32m    395\u001b[0m     \u001b[0muniques\u001b[0m \u001b[0;34m=\u001b[0m \u001b[0mnp\u001b[0m\u001b[0;34m.\u001b[0m\u001b[0munique\u001b[0m\u001b[0;34m(\u001b[0m\u001b[0mlengths\u001b[0m\u001b[0;34m)\u001b[0m\u001b[0;34m\u001b[0m\u001b[0;34m\u001b[0m\u001b[0m\n\u001b[1;32m    396\u001b[0m     \u001b[0;32mif\u001b[0m \u001b[0mlen\u001b[0m\u001b[0;34m(\u001b[0m\u001b[0muniques\u001b[0m\u001b[0;34m)\u001b[0m \u001b[0;34m>\u001b[0m \u001b[0;36m1\u001b[0m\u001b[0;34m:\u001b[0m\u001b[0;34m\u001b[0m\u001b[0;34m\u001b[0m\u001b[0m\n",
            "\u001b[0;32m/usr/local/lib/python3.10/dist-packages/sklearn/utils/validation.py\u001b[0m in \u001b[0;36m_num_samples\u001b[0;34m(x)\u001b[0m\n\u001b[1;32m    333\u001b[0m     \u001b[0;32mif\u001b[0m \u001b[0mhasattr\u001b[0m\u001b[0;34m(\u001b[0m\u001b[0mx\u001b[0m\u001b[0;34m,\u001b[0m \u001b[0;34m\"shape\"\u001b[0m\u001b[0;34m)\u001b[0m \u001b[0;32mand\u001b[0m \u001b[0mx\u001b[0m\u001b[0;34m.\u001b[0m\u001b[0mshape\u001b[0m \u001b[0;32mis\u001b[0m \u001b[0;32mnot\u001b[0m \u001b[0;32mNone\u001b[0m\u001b[0;34m:\u001b[0m\u001b[0;34m\u001b[0m\u001b[0;34m\u001b[0m\u001b[0m\n\u001b[1;32m    334\u001b[0m         \u001b[0;32mif\u001b[0m \u001b[0mlen\u001b[0m\u001b[0;34m(\u001b[0m\u001b[0mx\u001b[0m\u001b[0;34m.\u001b[0m\u001b[0mshape\u001b[0m\u001b[0;34m)\u001b[0m \u001b[0;34m==\u001b[0m \u001b[0;36m0\u001b[0m\u001b[0;34m:\u001b[0m\u001b[0;34m\u001b[0m\u001b[0;34m\u001b[0m\u001b[0m\n\u001b[0;32m--> 335\u001b[0;31m             raise TypeError(\n\u001b[0m\u001b[1;32m    336\u001b[0m                 \u001b[0;34m\"Singleton array %r cannot be considered a valid collection.\"\u001b[0m \u001b[0;34m%\u001b[0m \u001b[0mx\u001b[0m\u001b[0;34m\u001b[0m\u001b[0;34m\u001b[0m\u001b[0m\n\u001b[1;32m    337\u001b[0m             )\n",
            "\u001b[0;31mTypeError\u001b[0m: Singleton array 0 cannot be considered a valid collection."
          ]
        }
      ]
    },
    {
      "cell_type": "code",
      "source": [
        "print(X_test.shape)\n",
        "print(X_test[0])"
      ],
      "metadata": {
        "colab": {
          "base_uri": "https://localhost:8080/"
        },
        "id": "qq3ESFSfw0Qd",
        "outputId": "27d6ac79-6477-457b-aca3-39a628e4f8e7"
      },
      "execution_count": null,
      "outputs": [
        {
          "output_type": "stream",
          "name": "stdout",
          "text": [
            "(114, 30)\n",
            "[1.247e+01 1.860e+01 8.109e+01 4.819e+02 9.965e-02 1.058e-01 8.005e-02\n",
            " 3.821e-02 1.925e-01 6.373e-02 3.961e-01 1.044e+00 2.497e+00 3.029e+01\n",
            " 6.953e-03 1.911e-02 2.701e-02 1.037e-02 1.782e-02 3.586e-03 1.497e+01\n",
            " 2.464e+01 9.605e+01 6.779e+02 1.426e-01 2.378e-01 2.671e-01 1.015e-01\n",
            " 3.014e-01 8.750e-02]\n"
          ]
        }
      ]
    },
    {
      "cell_type": "code",
      "source": [
        "#training the nueral network\n",
        "historyS = model.fit(std_x_train,y_train,validation_split = 0.1,epochs = 10)\n",
        "loss1, accuracy1 = model.evaluate(std_x_test,y_test)\n",
        "\n",
        "plt.plot(historyS.history['accuracy'])\n",
        "plt.plot(historyS.history['val_accuracy'])\n",
        "plt.xlabel('epoch')\n",
        "plt.ylabel('loss')\n",
        "\n",
        "plt.legend(['training data', 'validation data'], loc='upper right')"
      ],
      "metadata": {
        "colab": {
          "base_uri": "https://localhost:8080/",
          "height": 831
        },
        "outputId": "db4f3784-7744-4ed8-bef3-d787f5c45747",
        "id": "Vv6Efu6kFt-d"
      },
      "execution_count": null,
      "outputs": [
        {
          "output_type": "stream",
          "name": "stdout",
          "text": [
            "Epoch 1/10\n",
            "13/13 [==============================] - 0s 11ms/step - loss: 0.0522 - accuracy: 0.9853 - val_loss: 0.0886 - val_accuracy: 0.9565\n",
            "Epoch 2/10\n",
            "13/13 [==============================] - 0s 6ms/step - loss: 0.0511 - accuracy: 0.9853 - val_loss: 0.0878 - val_accuracy: 0.9565\n",
            "Epoch 3/10\n",
            "13/13 [==============================] - 0s 5ms/step - loss: 0.0504 - accuracy: 0.9853 - val_loss: 0.0878 - val_accuracy: 0.9565\n",
            "Epoch 4/10\n",
            "13/13 [==============================] - 0s 5ms/step - loss: 0.0495 - accuracy: 0.9853 - val_loss: 0.0869 - val_accuracy: 0.9565\n",
            "Epoch 5/10\n",
            "13/13 [==============================] - 0s 7ms/step - loss: 0.0488 - accuracy: 0.9853 - val_loss: 0.0865 - val_accuracy: 0.9565\n",
            "Epoch 6/10\n",
            "13/13 [==============================] - 0s 7ms/step - loss: 0.0480 - accuracy: 0.9902 - val_loss: 0.0862 - val_accuracy: 0.9565\n",
            "Epoch 7/10\n",
            "13/13 [==============================] - 0s 7ms/step - loss: 0.0473 - accuracy: 0.9902 - val_loss: 0.0862 - val_accuracy: 0.9565\n",
            "Epoch 8/10\n",
            "13/13 [==============================] - 0s 7ms/step - loss: 0.0467 - accuracy: 0.9902 - val_loss: 0.0861 - val_accuracy: 0.9565\n",
            "Epoch 9/10\n",
            "13/13 [==============================] - 0s 6ms/step - loss: 0.0459 - accuracy: 0.9878 - val_loss: 0.0863 - val_accuracy: 0.9565\n",
            "Epoch 10/10\n",
            "13/13 [==============================] - 0s 8ms/step - loss: 0.0453 - accuracy: 0.9902 - val_loss: 0.0858 - val_accuracy: 0.9565\n",
            "4/4 [==============================] - 0s 5ms/step - loss: 0.0751 - accuracy: 0.9737\n"
          ]
        },
        {
          "output_type": "execute_result",
          "data": {
            "text/plain": [
              "<matplotlib.legend.Legend at 0x7d601d1beaa0>"
            ]
          },
          "metadata": {},
          "execution_count": 29
        },
        {
          "output_type": "display_data",
          "data": {
            "text/plain": [
              "<Figure size 640x480 with 1 Axes>"
            ],
            "image/png": "[encoded data removed]"
          },
          "metadata": {}
        }
      ]
    },
    {
      "cell_type": "code",
      "source": [
        "nn_pred = model.predict(X_test)\n",
        "print(nn_pred.shape)\n",
        "print(nn_pred[0]) #left : probability is 0 , right: probability is 1"
      ],
      "metadata": {
        "id": "rvXFgRMPwqEH",
        "colab": {
          "base_uri": "https://localhost:8080/"
        },
        "outputId": "53a4231f-a462-4221-8a19-82bbdd904c8c"
      },
      "execution_count": null,
      "outputs": [
        {
          "output_type": "stream",
          "name": "stdout",
          "text": [
            "4/4 [==============================] - 0s 4ms/step\n",
            "(114, 2)\n",
            "[1.0000000e+00 1.0635314e-17]\n"
          ]
        }
      ]
    },
    {
      "cell_type": "code",
      "source": [
        "print(nn_pred)"
      ],
      "metadata": {
        "colab": {
          "base_uri": "https://localhost:8080/"
        },
        "id": "tnaJJNb0eQBr",
        "outputId": "0d8aa342-c852-4787-a555-0828772e5924"
      },
      "execution_count": null,
      "outputs": [
        {
          "output_type": "stream",
          "name": "stdout",
          "text": [
            "[[1.00000000e+00 1.06353143e-17]\n",
            " [1.00000000e+00 1.59103694e-15]\n",
            " [1.00000000e+00 5.07318843e-16]\n",
            " [1.00000000e+00 4.53044205e-13]\n",
            " [1.00000000e+00 1.16811657e-13]\n",
            " [1.00000000e+00 2.00338750e-15]\n",
            " [1.00000000e+00 3.26936506e-10]\n",
            " [1.00000000e+00 2.23755052e-07]\n",
            " [1.00000000e+00 7.48124165e-13]\n",
            " [1.00000000e+00 2.63896727e-09]\n",
            " [1.00000000e+00 5.98711957e-14]\n",
            " [1.00000000e+00 2.91787915e-13]\n",
            " [1.00000000e+00 9.76790147e-07]\n",
            " [1.00000000e+00 1.65376235e-09]\n",
            " [1.00000000e+00 1.02200789e-10]\n",
            " [1.00000000e+00 2.03622607e-04]\n",
            " [1.00000000e+00 3.66071326e-05]\n",
            " [1.00000000e+00 1.86166534e-15]\n",
            " [1.00000000e+00 1.15436496e-16]\n",
            " [1.00000000e+00 2.21417006e-03]\n",
            " [1.00000000e+00 2.58055923e-14]\n",
            " [1.00000000e+00 4.53671270e-16]\n",
            " [1.00000000e+00 3.25750597e-02]\n",
            " [1.00000000e+00 4.82219728e-17]\n",
            " [1.00000000e+00 1.96406784e-16]\n",
            " [1.00000000e+00 6.41626619e-09]\n",
            " [1.00000000e+00 9.19999243e-10]\n",
            " [1.00000000e+00 1.88993358e-18]\n",
            " [1.00000000e+00 1.01954968e-12]\n",
            " [1.00000000e+00 2.55583213e-14]\n",
            " [1.00000000e+00 1.73797145e-16]\n",
            " [1.00000000e+00 3.38903419e-11]\n",
            " [1.00000000e+00 1.29828027e-21]\n",
            " [1.00000000e+00 2.54801423e-11]\n",
            " [1.00000000e+00 3.90125032e-16]\n",
            " [1.00000000e+00 2.10266591e-15]\n",
            " [1.00000000e+00 6.61389075e-14]\n",
            " [1.00000000e+00 4.36073419e-16]\n",
            " [1.00000000e+00 2.78326084e-10]\n",
            " [1.00000000e+00 3.77815791e-12]\n",
            " [1.00000000e+00 4.79192214e-17]\n",
            " [1.00000000e+00 1.68712000e-20]\n",
            " [1.00000000e+00 1.67466735e-13]\n",
            " [1.00000000e+00 3.43291527e-15]\n",
            " [1.00000000e+00 3.98141405e-16]\n",
            " [1.00000000e+00 2.07016755e-17]\n",
            " [1.00000000e+00 4.66523016e-17]\n",
            " [1.00000000e+00 5.05908439e-22]\n",
            " [1.00000000e+00 4.56908398e-17]\n",
            " [1.00000000e+00 7.52311408e-12]\n",
            " [1.00000000e+00 8.15468266e-12]\n",
            " [1.00000000e+00 1.73527254e-19]\n",
            " [1.00000000e+00 7.96531149e-15]\n",
            " [1.00000000e+00 9.39659184e-11]\n",
            " [1.00000000e+00 7.04646844e-14]\n",
            " [1.00000000e+00 3.14958237e-12]\n",
            " [1.00000000e+00 3.31125111e-16]\n",
            " [1.00000000e+00 9.99997914e-01]\n",
            " [1.00000000e+00 3.47972061e-15]\n",
            " [1.00000000e+00 4.26545821e-12]\n",
            " [1.00000000e+00 1.46540915e-13]\n",
            " [1.00000000e+00 9.05253259e-08]\n",
            " [1.00000000e+00 6.75365186e-07]\n",
            " [1.00000000e+00 1.04689084e-10]\n",
            " [1.00000000e+00 2.26023085e-13]\n",
            " [1.00000000e+00 2.02682491e-15]\n",
            " [1.00000000e+00 3.65392172e-19]\n",
            " [1.00000000e+00 2.23039327e-14]\n",
            " [1.00000000e+00 1.82892858e-13]\n",
            " [1.00000000e+00 3.49639480e-14]\n",
            " [1.00000000e+00 1.06545811e-21]\n",
            " [1.00000000e+00 1.06012036e-18]\n",
            " [1.00000000e+00 2.38315003e-08]\n",
            " [1.00000000e+00 3.28526468e-08]\n",
            " [1.00000000e+00 1.80917951e-21]\n",
            " [1.00000000e+00 1.30099764e-09]\n",
            " [1.00000000e+00 3.83879734e-12]\n",
            " [1.00000000e+00 4.41468151e-15]\n",
            " [1.00000000e+00 2.48236113e-15]\n",
            " [1.00000000e+00 1.84713534e-15]\n",
            " [1.00000000e+00 8.36096058e-15]\n",
            " [1.00000000e+00 8.20046478e-15]\n",
            " [1.00000000e+00 6.02134673e-15]\n",
            " [1.00000000e+00 1.55019969e-10]\n",
            " [1.00000000e+00 1.35059196e-07]\n",
            " [1.00000000e+00 1.95936839e-16]\n",
            " [1.00000000e+00 1.87691126e-22]\n",
            " [1.00000000e+00 6.84666182e-19]\n",
            " [1.00000000e+00 3.72282297e-14]\n",
            " [1.00000000e+00 6.38381015e-12]\n",
            " [1.00000000e+00 6.80387219e-15]\n",
            " [1.00000000e+00 1.24284900e-13]\n",
            " [1.00000000e+00 2.02766914e-10]\n",
            " [1.00000000e+00 4.34253381e-19]\n",
            " [1.00000000e+00 2.36464091e-15]\n",
            " [1.00000000e+00 6.36227498e-18]\n",
            " [1.00000000e+00 3.03274361e-09]\n",
            " [1.00000000e+00 2.36124229e-23]\n",
            " [1.00000000e+00 4.04919891e-12]\n",
            " [1.00000000e+00 5.93330560e-13]\n",
            " [1.00000000e+00 6.58910106e-17]\n",
            " [1.00000000e+00 5.96432680e-13]\n",
            " [1.00000000e+00 1.52622739e-21]\n",
            " [1.00000000e+00 3.22001455e-07]\n",
            " [1.00000000e+00 2.67790610e-22]\n",
            " [1.00000000e+00 5.21847052e-19]\n",
            " [1.00000000e+00 1.11195224e-15]\n",
            " [1.00000000e+00 1.67579371e-11]\n",
            " [1.00000000e+00 8.64435745e-10]\n",
            " [1.00000000e+00 1.54272906e-09]\n",
            " [1.00000000e+00 1.28632342e-17]\n",
            " [1.00000000e+00 4.21135600e-14]\n",
            " [1.00000000e+00 1.79226520e-16]\n",
            " [1.00000000e+00 1.00000000e+00]]\n"
          ]
        }
      ]
    },
    {
      "cell_type": "code",
      "source": [
        "#convert the probabilities to 1 amd 0\n",
        "nn_pred_labels = [np.argmax(i) for i in nn_pred] #np.argmax return the index of max value in i\n",
        "#if the first is max , will return zero , if the second max will return 1\n",
        "print(nn_pred_labels)\n"
      ],
      "metadata": {
        "colab": {
          "base_uri": "https://localhost:8080/"
        },
        "id": "s60iQc8ug552",
        "outputId": "235881df-399e-4064-e591-1444908361d9"
      },
      "execution_count": null,
      "outputs": [
        {
          "output_type": "stream",
          "name": "stdout",
          "text": [
            "[0, 0, 0, 0, 0, 0, 0, 0, 0, 0, 0, 0, 0, 0, 0, 0, 0, 0, 0, 0, 0, 0, 0, 0, 0, 0, 0, 0, 0, 0, 0, 0, 0, 0, 0, 0, 0, 0, 0, 0, 0, 0, 0, 0, 0, 0, 0, 0, 0, 0, 0, 0, 0, 0, 0, 0, 0, 0, 0, 0, 0, 0, 0, 0, 0, 0, 0, 0, 0, 0, 0, 0, 0, 0, 0, 0, 0, 0, 0, 0, 0, 0, 0, 0, 0, 0, 0, 0, 0, 0, 0, 0, 0, 0, 0, 0, 0, 0, 0, 0, 0, 0, 0, 0, 0, 0, 0, 0, 0, 0, 0, 0, 0, 0]\n"
          ]
        }
      ]
    },
    {
      "cell_type": "markdown",
      "source": [
        "### **Building the predictive system**"
      ],
      "metadata": {
        "id": "jyi25zwnjZ43"
      }
    },
    {
      "cell_type": "code",
      "source": [],
      "metadata": {
        "id": "Fy7qFYrdjRFt"
      },
      "execution_count": null,
      "outputs": []
    },
    {
      "cell_type": "markdown",
      "source": [],
      "metadata": {
        "id": "50SZmuavhdNe"
      }
    },
    {
      "cell_type": "markdown",
      "source": [
        "# confusion matrix"
      ],
      "metadata": {
        "id": "DExeU3s7AaCX"
      }
    },
    {
      "cell_type": "code",
      "source": [
        "#SVC confusion matrix\n",
        "cm = confusion_matrix(y_test, predictions, labels=model.classes_)\n",
        "disp = ConfusionMatrixDisplay(confusion_matrix=cm,display_labels=model.classes_)\n",
        "disp.plot()\n"
      ],
      "metadata": {
        "id": "fPVJ3ovdAep6"
      },
      "execution_count": null,
      "outputs": []
    },
    {
      "cell_type": "code",
      "source": [
        "#logastic confusion matrix\n",
        "cm2 = confusion_matrix(y_test, y_pred)\n",
        "\n",
        "disp = ConfusionMatrixDisplay(confusion_matrix=cm2,display_labels=logReg.classes_)\n",
        "disp.plot()"
      ],
      "metadata": {
        "id": "FXFsp-7JHuGm"
      },
      "execution_count": null,
      "outputs": []
    },
    {
      "cell_type": "code",
      "source": [
        "#naive byes confusion matrix\n",
        "\n",
        "\n",
        "cm3 = confusion_matrix(y_test, naive_pred)\n",
        "\n",
        "disp1 = ConfusionMatrixDisplay(confusion_matrix=cm3, display_labels=naive.classes_)\n",
        "disp1.plot()\n",
        "\n",
        "\n"
      ],
      "metadata": {
        "id": "7x3SUexfyz88"
      },
      "execution_count": null,
      "outputs": []
    }
  ]
}